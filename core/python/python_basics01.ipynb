{
 "cells": [
  {
   "cell_type": "code",
   "execution_count": 2,
   "metadata": {},
   "outputs": [],
   "source": [
    "abcd = 1234"
   ]
  },
  {
   "cell_type": "code",
   "execution_count": 3,
   "metadata": {},
   "outputs": [],
   "source": [
    "a = 123 # 변수 a에 정수 123을 할당\n",
    "b_123 = 123.456 # 변수 b_123에 실수 123.456을 할당\n",
    "hello_world = \"Hello World\" # 변수 hello_world에 문자열 \"Hello World\"를 할당"
   ]
  },
  {
   "cell_type": "code",
   "execution_count": 5,
   "metadata": {},
   "outputs": [
    {
     "name": "stdout",
     "output_type": "stream",
     "text": [
      "123\n"
     ]
    }
   ],
   "source": [
    "a = 123\n",
    "print(a)"
   ]
  },
  {
   "cell_type": "code",
   "execution_count": 6,
   "metadata": {},
   "outputs": [
    {
     "name": "stdout",
     "output_type": "stream",
     "text": [
      "123 123.456 hello World\n"
     ]
    }
   ],
   "source": [
    "print(123, 123.456, \"hello World\")"
   ]
  },
  {
   "cell_type": "code",
   "execution_count": 7,
   "metadata": {},
   "outputs": [
    {
     "name": "stdout",
     "output_type": "stream",
     "text": [
      "456\n"
     ]
    }
   ],
   "source": [
    "b = 456\n",
    "print(b)"
   ]
  },
  {
   "cell_type": "code",
   "execution_count": 10,
   "metadata": {},
   "outputs": [
    {
     "name": "stdout",
     "output_type": "stream",
     "text": [
      "덧셈: 7\n",
      "뺄셈: -1\n",
      "곱셈: 12\n",
      "거듭제곱: 81\n"
     ]
    }
   ],
   "source": [
    "a = 3\n",
    "b = 4\n",
    "\n",
    "c = a + b # 덧셈\n",
    "print(\"덧셈:\", c)\n",
    "\n",
    "d = a -b # 뺄셈\n",
    "print(\"뺄셈:\", d)\n",
    "\n",
    "e = a * b # 곱셈\n",
    "print(\"곱셈:\", e)\n",
    "\n",
    "f = a ** b # 거듭제곱(a의 b제곱)\n",
    "print(\"거듭제곱:\", f)"
   ]
  },
  {
   "cell_type": "code",
   "execution_count": 12,
   "metadata": {},
   "outputs": [
    {
     "name": "stdout",
     "output_type": "stream",
     "text": [
      "나눗셈(소수): 0.75\n",
      "나눗셈(정수): 0\n",
      "나머지: 3\n"
     ]
    }
   ],
   "source": [
    "g = a / b # 결과는 소수\n",
    "print(\"나눗셈(소수):\", g)\n",
    "\n",
    "h = a // b # 결과는 정수\n",
    "print(\"나눗셈(정수):\", h)\n",
    "\n",
    "i = a % b # 나머지\n",
    "print(\"나머지:\", i) "
   ]
  },
  {
   "cell_type": "code",
   "execution_count": 13,
   "metadata": {},
   "outputs": [
    {
     "name": "stdout",
     "output_type": "stream",
     "text": [
      "3을 더한다:  8\n",
      "3을 뺀다:  2\n"
     ]
    }
   ],
   "source": [
    "j = 5\n",
    "j += 3 # 3을 더한 후 결과를 변수 j에 할당, j = j + 3과 같다.\n",
    "print(\"3을 더한다: \", j)\n",
    "\n",
    "k = 5 \n",
    "k -= 3 # 3을 뺀 후 결과를 변수 k에 할당, k = k - 3과 같다.\n",
    "print(\"3을 뺀다: \", k)\n"
   ]
  },
  {
   "cell_type": "code",
   "execution_count": 14,
   "metadata": {},
   "outputs": [
    {
     "name": "stdout",
     "output_type": "stream",
     "text": [
      "120000.0\n",
      "0.00012\n"
     ]
    }
   ],
   "source": [
    "# 유효숫자 사용\n",
    "\n",
    "a = 1.2e5 #120000\n",
    "print(a)\n",
    "\n",
    "b = 1.2e-4 #0.00012\n",
    "print(b)"
   ]
  },
  {
   "cell_type": "code",
   "execution_count": 15,
   "metadata": {},
   "outputs": [
    {
     "name": "stdout",
     "output_type": "stream",
     "text": [
      "[1, 2, 3, 4]\n"
     ]
    }
   ],
   "source": [
    "a = [1, 2, 3, 4]\n",
    "print(a)"
   ]
  },
  {
   "cell_type": "code",
   "execution_count": 16,
   "metadata": {},
   "outputs": [
    {
     "name": "stdout",
     "output_type": "stream",
     "text": [
      "6\n"
     ]
    }
   ],
   "source": [
    "b = [4, 5, 6, 7]\n",
    "print(b[2])"
   ]
  },
  {
   "cell_type": "code",
   "execution_count": 17,
   "metadata": {},
   "outputs": [
    {
     "name": "stdout",
     "output_type": "stream",
     "text": [
      "[1, 2, 3, 4, 5, 6]\n"
     ]
    }
   ],
   "source": [
    "c = [1, 2, 3, 4, 5]\n",
    "c.append(6) # 리스트에 6을 추가\n",
    "print(c)"
   ]
  },
  {
   "cell_type": "code",
   "execution_count": 18,
   "metadata": {},
   "outputs": [
    {
     "name": "stdout",
     "output_type": "stream",
     "text": [
      "[[1, 2, 3], [4, 5, 6]]\n"
     ]
    }
   ],
   "source": [
    "d = [[1, 2, 3], [4, 5, 6]]\n",
    "print(d)"
   ]
  },
  {
   "cell_type": "code",
   "execution_count": 20,
   "metadata": {},
   "outputs": [
    {
     "name": "stdout",
     "output_type": "stream",
     "text": [
      "[1, 2, 1, 2, 1, 2]\n"
     ]
    }
   ],
   "source": [
    "e = [1, 2]\n",
    "print(e * 3)"
   ]
  },
  {
   "cell_type": "code",
   "execution_count": 21,
   "metadata": {},
   "outputs": [
    {
     "name": "stdout",
     "output_type": "stream",
     "text": [
      "3\n"
     ]
    }
   ],
   "source": [
    "a = (1, 2, 3, 4, 5) # 튜플 작성\n",
    "b = a[2] # 인덱스가 2인 요소를 추출\n",
    "print(b)"
   ]
  },
  {
   "cell_type": "code",
   "execution_count": 23,
   "metadata": {},
   "outputs": [
    {
     "name": "stdout",
     "output_type": "stream",
     "text": [
      "(4,)\n"
     ]
    }
   ],
   "source": [
    "c = (4,)\n",
    "print(c)"
   ]
  },
  {
   "cell_type": "code",
   "execution_count": 25,
   "metadata": {},
   "outputs": [
    {
     "name": "stdout",
     "output_type": "stream",
     "text": [
      "1 2 3\n",
      "4 5 6\n"
     ]
    }
   ],
   "source": [
    "d = [1, 2, 3]\n",
    "d_1, d_2, d_3 = d\n",
    "print(d_1, d_2, d_3)\n",
    "\n",
    "e = (4, 5, 6)\n",
    "e_1, e_2, e_3 = e\n",
    "print(e_1, e_2, e_3)"
   ]
  },
  {
   "cell_type": "code",
   "execution_count": 26,
   "metadata": {},
   "outputs": [
    {
     "name": "stdout",
     "output_type": "stream",
     "text": [
      "7\n"
     ]
    }
   ],
   "source": [
    "a = 5\n",
    "\n",
    "if a > 3: # a가 3보다 크면\n",
    "    print(a + 2) \n",
    "else: # a> 3을 만족하지 않으면\n",
    "    print(a - 2)"
   ]
  },
  {
   "cell_type": "code",
   "execution_count": 27,
   "metadata": {},
   "outputs": [
    {
     "name": "stdout",
     "output_type": "stream",
     "text": [
      "9\n"
     ]
    }
   ],
   "source": [
    "b = 7\n",
    "if b == 7: # b가 7이면\n",
    "    print(b + 2)\n",
    "else: # b가 7이 아니면\n",
    "    print(b - 2)"
   ]
  },
  {
   "cell_type": "code",
   "execution_count": 28,
   "metadata": {},
   "outputs": [
    {
     "name": "stdout",
     "output_type": "stream",
     "text": [
      "5\n",
      "8\n",
      "11\n"
     ]
    }
   ],
   "source": [
    "for a in [4, 7, 10]: # 리스트의 각 요소가 변수 a에 할당된다.\n",
    "    print(a + 1) # 루프에서 실행하는 처리에는 인덴트를 넣는다\n",
    "    "
   ]
  },
  {
   "cell_type": "code",
   "execution_count": 32,
   "metadata": {},
   "outputs": [
    {
     "name": "stdout",
     "output_type": "stream",
     "text": [
      "0\n",
      "1\n",
      "2\n",
      "3\n",
      "4\n"
     ]
    }
   ],
   "source": [
    "for i in range(5): # i에는 0부터 4까지 들어간다.\n",
    "    print(i)\n",
    "\n"
   ]
  },
  {
   "cell_type": "code",
   "execution_count": 33,
   "metadata": {},
   "outputs": [
    {
     "name": "stdout",
     "output_type": "stream",
     "text": [
      "0\n",
      "1\n",
      "2\n",
      "3\n",
      "4\n"
     ]
    }
   ],
   "source": [
    "for i in range(4 + 1):\n",
    "    print(i)\n",
    "    "
   ]
  },
  {
   "cell_type": "code",
   "execution_count": 35,
   "metadata": {},
   "outputs": [
    {
     "name": "stdout",
     "output_type": "stream",
     "text": [
      "5\n"
     ]
    }
   ],
   "source": [
    "def my_func_1(): # my_func_1이 함수의 이름\n",
    "    a = 2\n",
    "    b = 3\n",
    "    print(a + b)\n",
    "\n",
    "my_func_1()"
   ]
  },
  {
   "cell_type": "code",
   "execution_count": 37,
   "metadata": {},
   "outputs": [
    {
     "name": "stdout",
     "output_type": "stream",
     "text": [
      "7\n"
     ]
    }
   ],
   "source": [
    "def my_func_2(p, q): # p, q가 인수\n",
    "    print(p + q)\n",
    "\n",
    "my_func_2(3, 4)"
   ]
  },
  {
   "cell_type": "code",
   "execution_count": 38,
   "metadata": {},
   "outputs": [
    {
     "name": "stdout",
     "output_type": "stream",
     "text": [
      "7\n"
     ]
    }
   ],
   "source": [
    "def my_func_3(p, q): # p, q가 인수\n",
    "    r = p + q\n",
    "    return r # r을 반환값으로 반환\n",
    "\n",
    "k = my_func_3(3, 4) # 반환값으로서 받은 값을 변수 k에 할당\n",
    "print(k)"
   ]
  },
  {
   "cell_type": "code",
   "execution_count": 39,
   "metadata": {},
   "outputs": [
    {
     "name": "stdout",
     "output_type": "stream",
     "text": [
      "7 3\n"
     ]
    }
   ],
   "source": [
    "def my_func_3(p, q): # p, q가 인수\n",
    "    r = p + q\n",
    "    s = p - q\n",
    "    return (r, s) # 반환값을 튜플로 한다.\n",
    "\n",
    "k, l = my_func_3(5, 2) # 튜플의 각 요소를 k, l에 할당\n",
    "print(k, l)"
   ]
  },
  {
   "cell_type": "code",
   "execution_count": 40,
   "metadata": {},
   "outputs": [
    {
     "name": "stdout",
     "output_type": "stream",
     "text": [
      "123 456\n"
     ]
    }
   ],
   "source": [
    "a = 123 # 글로벌 변수\n",
    "\n",
    "def show_number():\n",
    "    b = 456 # 로컬 변수\n",
    "    print(a, b) # 양쪽에 접근할 수 있다.\n",
    "\n",
    "show_number()"
   ]
  },
  {
   "cell_type": "code",
   "execution_count": 41,
   "metadata": {},
   "outputs": [
    {
     "name": "stdout",
     "output_type": "stream",
     "text": [
      "Local: 456\n",
      "Global: 123\n"
     ]
    }
   ],
   "source": [
    "a = 123 # 글로벌 변수\n",
    "\n",
    "def set_local():\n",
    "    a = 456 # a는 위에 적은 것과 다른 로컬 변수\n",
    "    print(\"Local:\", a)\n",
    "\n",
    "set_local()\n",
    "print(\"Global:\", a) # 글로벌 변수의 값은 변하지 않는다."
   ]
  },
  {
   "cell_type": "code",
   "execution_count": 42,
   "metadata": {},
   "outputs": [
    {
     "name": "stdout",
     "output_type": "stream",
     "text": [
      "Local: 456\n",
      "Global: 123\n"
     ]
    }
   ],
   "source": [
    "a = 123 # 글로벌 변수\n",
    "\n",
    "def show_arg(a): # a는 위에 적은 것과 다른 로컬 변수\n",
    "    print(\"Local:\", a)\n",
    "\n",
    "show_arg(456)\n",
    "print(\"Global:\", a) # 글로벌 변수의 값은 변하지 않는다."
   ]
  },
  {
   "cell_type": "code",
   "execution_count": 43,
   "metadata": {},
   "outputs": [
    {
     "name": "stdout",
     "output_type": "stream",
     "text": [
      "Local: 456\n",
      "Global: 456\n"
     ]
    }
   ],
   "source": [
    "a = 123 # 글로벌 변수\n",
    "\n",
    "def set_global():\n",
    "    global a # nonlocal로도 가능 \n",
    "    a = 456 # 글로벌 변수의 값을 변경\n",
    "    print(\"Local:\", a)\n",
    "\n",
    "set_global()\n",
    "print(\"Global:\", a) "
   ]
  }
 ],
 "metadata": {
  "kernelspec": {
   "display_name": "yeardream",
   "language": "python",
   "name": "python3"
  },
  "language_info": {
   "codemirror_mode": {
    "name": "ipython",
    "version": 3
   },
   "file_extension": ".py",
   "mimetype": "text/x-python",
   "name": "python",
   "nbconvert_exporter": "python",
   "pygments_lexer": "ipython3",
   "version": "3.9.19"
  }
 },
 "nbformat": 4,
 "nbformat_minor": 2
}
