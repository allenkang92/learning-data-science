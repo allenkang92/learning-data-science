{
 "cells": [
  {
   "cell_type": "markdown",
   "metadata": {},
   "source": [
    "함수는 수식을 다루는데 기본이 됩니다.\n",
    "\n",
    "수학의 함수를 => 프로그래밍의 함수로 구현\n"
   ]
  },
  {
   "cell_type": "code",
   "execution_count": 1,
   "metadata": {},
   "outputs": [
    {
     "name": "stdout",
     "output_type": "stream",
     "text": [
      "14\n"
     ]
    }
   ],
   "source": [
    "# 수학의 함수를 파이썬의 함수로 구현한다\n",
    "\n",
    "import numpy as np\n",
    "\n",
    "def my_func(x): # my_func라는 이름의 파이썬 함수로 수식을 구현\n",
    "    return 3 * x + 2 # 3x + 2\n",
    "\n",
    "x = 4 # 글로벌 변수이므로 위에 적은 인수 x와는 다른 변수\n",
    "y = my_func(x) # y= f(x)\n",
    "print(y)"
   ]
  },
  {
   "cell_type": "code",
   "execution_count": 3,
   "metadata": {},
   "outputs": [
    {
     "name": "stdout",
     "output_type": "stream",
     "text": [
      "13\n"
     ]
    }
   ],
   "source": [
    "# 수식 y = 4x + 1을 구현해볼까요\n",
    "\n",
    "import numpy as np\n",
    "\n",
    "def my_func(x): \n",
    "    return 4 * x + 1 # 4x + 1\n",
    "\n",
    "x = 3\n",
    "y = my_func(x) # y = f(x)\n",
    "print(y)"
   ]
  }
 ],
 "metadata": {
  "kernelspec": {
   "display_name": "yeardream",
   "language": "python",
   "name": "python3"
  },
  "language_info": {
   "codemirror_mode": {
    "name": "ipython",
    "version": 3
   },
   "file_extension": ".py",
   "mimetype": "text/x-python",
   "name": "python",
   "nbconvert_exporter": "python",
   "pygments_lexer": "ipython3",
   "version": "3.9.19"
  }
 },
 "nbformat": 4,
 "nbformat_minor": 2
}
