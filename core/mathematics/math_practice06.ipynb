{
 "cells": [
  {
   "cell_type": "markdown",
   "metadata": {},
   "source": [
    "총합과 총곱\n",
    "\n",
    "시그마"
   ]
  },
  {
   "cell_type": "code",
   "execution_count": null,
   "metadata": {},
   "outputs": [
    {
     "name": "stdout",
     "output_type": "stream",
     "text": [
      "15\n"
     ]
    }
   ],
   "source": [
    "# 넘파이의 sum() 함수로 총합을 구한다\n",
    "\n",
    "import numpy as np\n",
    "\n",
    "a = np.array([1, 3, 2, 5, 4]) # a1부터 a5까지\n",
    "y = np.sum(a) # 총합\n",
    "\n",
    "print(y)"
   ]
  },
  {
   "cell_type": "code",
   "execution_count": null,
   "metadata": {},
   "outputs": [
    {
     "name": "stdout",
     "output_type": "stream",
     "text": [
      "120\n"
     ]
    }
   ],
   "source": [
    "# 넘파이의 prod() 함수로 총곱을 구한다 -> product의 줄임말로 배열 내 모든 요소의 곱을 계산하는 역할을 함..!\n",
    "import numpy as np\n",
    "\n",
    "a = np.array([1, 3, 2, 5, 4]) # a1부터 a5까지\n",
    "y = np.prod(a) # 총곱\n",
    "\n",
    "print(y)"
   ]
  },
  {
   "cell_type": "code",
   "execution_count": 3,
   "metadata": {},
   "outputs": [
    {
     "name": "stdout",
     "output_type": "stream",
     "text": [
      "21\n",
      "720\n"
     ]
    }
   ],
   "source": [
    "import numpy as np\n",
    "\n",
    "b = np.array([6, 1, 5, 4, 3, 2])\n",
    "\n",
    "print(np.sum(b))\n",
    "print(np.prod(b))"
   ]
  }
 ],
 "metadata": {
  "kernelspec": {
   "display_name": "yeardream",
   "language": "python",
   "name": "python3"
  },
  "language_info": {
   "codemirror_mode": {
    "name": "ipython",
    "version": 3
   },
   "file_extension": ".py",
   "mimetype": "text/x-python",
   "name": "python",
   "nbconvert_exporter": "python",
   "pygments_lexer": "ipython3",
   "version": "3.9.19"
  }
 },
 "nbformat": 4,
 "nbformat_minor": 2
}
