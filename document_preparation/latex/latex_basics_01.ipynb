{
 "cells": [
  {
   "cell_type": "markdown",
   "metadata": {},
   "source": [
    "y = 2x + 1"
   ]
  },
  {
   "cell_type": "markdown",
   "metadata": {},
   "source": [
    "$$y=2x+1$$"
   ]
  },
  {
   "cell_type": "markdown",
   "metadata": {},
   "source": [
    "LaTex 라는 문서 처리 시스템.\n",
    "\n",
    "수식을 깨끗하게 입력하는 방법. \n",
    "\n",
    "주피터 노트북의 셀 타입을 마크다운으로 하고 입력해 실행하면 된다... 앞뒤로\"$$\" 감싸줘요.."
   ]
  },
  {
   "cell_type": "markdown",
   "metadata": {},
   "source": [
    "첨자와 거듭제곱\n",
    "^와 _의 기호를 사용해서 오른쪽 아래의 첨자와 오른쪽 위의 거듭제곱을 표현할 수 있다. 첨자가 여러 개 있는 경우 {}로 감싼다."
   ]
  },
  {
   "cell_type": "markdown",
   "metadata": {},
   "source": [
    "a1 -> a_1\n",
    "aij -> a_{ij}\n",
    "b2 -> b^2\n",
    "bij -> b^{ij}\n",
    "c21 -> c_1^2"
   ]
  },
  {
   "cell_type": "markdown",
   "metadata": {},
   "source": [
    "$$a_1$$"
   ]
  },
  {
   "cell_type": "markdown",
   "metadata": {},
   "source": [
    "$$a_{ij}$$"
   ]
  },
  {
   "cell_type": "markdown",
   "metadata": {},
   "source": [
    "$$b^2$$"
   ]
  },
  {
   "cell_type": "markdown",
   "metadata": {},
   "source": [
    "$$b^{ij}$$"
   ]
  },
  {
   "cell_type": "markdown",
   "metadata": {},
   "source": [
    "$$c_1^2$$"
   ]
  },
  {
   "cell_type": "markdown",
   "metadata": {},
   "source": [
    "다항식\n",
    "\n",
    "y = x3 + 2x2 + x + 3"
   ]
  },
  {
   "cell_type": "markdown",
   "metadata": {},
   "source": [
    "$$ y = x^3 + 2x^2 + x + 3 $$"
   ]
  },
  {
   "cell_type": "markdown",
   "metadata": {},
   "source": [
    "제곱근\n",
    "y = 루트 x\n",
    "\n",
    "\\sqrt"
   ]
  },
  {
   "cell_type": "markdown",
   "metadata": {},
   "source": [
    "$$ y = \\sqrt x $$"
   ]
  },
  {
   "cell_type": "markdown",
   "metadata": {},
   "source": [
    "삼각함수\n",
    "y = sinx\n",
    "y = cosx\n",
    "y - tanx\n",
    "\n",
    "\\sin \\cos \\tan"
   ]
  },
  {
   "cell_type": "markdown",
   "metadata": {},
   "source": [
    "$$ y = \\sin x$$"
   ]
  },
  {
   "cell_type": "markdown",
   "metadata": {},
   "source": [
    "$$ y = \\cos x$$"
   ]
  },
  {
   "cell_type": "markdown",
   "metadata": {},
   "source": [
    "$$ y = \\tan x$$"
   ]
  },
  {
   "cell_type": "markdown",
   "metadata": {},
   "source": [
    "분수 /frac{}{}"
   ]
  },
  {
   "cell_type": "markdown",
   "metadata": {},
   "source": [
    "$$ y = \\frac{17}{24} $$"
   ]
  },
  {
   "cell_type": "markdown",
   "metadata": {},
   "source": [
    "총합\n",
    "\\sum -> 시그마"
   ]
  },
  {
   "cell_type": "markdown",
   "metadata": {},
   "source": [
    "$$ y = \\sum_{k=1}^1 a_k $$"
   ]
  },
  {
   "cell_type": "markdown",
   "metadata": {},
   "source": [
    "총곱 \\prod -> 파이"
   ]
  },
  {
   "cell_type": "markdown",
   "metadata": {},
   "source": [
    "$$ y = \\prod_{k=1}^n a_k $$"
   ]
  },
  {
   "cell_type": "markdown",
   "metadata": {},
   "source": [
    "$$ y=x^3 + \\sqrt x + \\frac{a_{ij}}{b_{ij}^4} - \\sum_{k=1}^n a_k $$"
   ]
  }
 ],
 "metadata": {
  "kernelspec": {
   "display_name": "yeardream",
   "language": "python",
   "name": "python3"
  },
  "language_info": {
   "name": "python",
   "version": "3.9.19"
  }
 },
 "nbformat": 4,
 "nbformat_minor": 2
}
