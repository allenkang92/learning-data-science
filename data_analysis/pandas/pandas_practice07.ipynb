{
 "cells": [
  {
   "cell_type": "code",
   "execution_count": 1,
   "metadata": {},
   "outputs": [],
   "source": [
    "import pandas as pd\n",
    "import numpy as np\n",
    "\n",
    "class display(object):\n",
    "    \"\"\"여러 객체를 HTML 형태로 표시\"\"\"\n",
    "\n",
    "    # HTML 템플릿 문자열\n",
    "    template = \"\"\"<div style=\"float: left; padding: 10px;\">\n",
    "    <p style='font-family:\"Courier New\", Courier, monospace'>{0}{1}\n",
    "    \"\"\"\n",
    "\n",
    "    def __init__(self, *args):\n",
    "        # 여러 개의 객체 이름을 args에 저장\n",
    "        self.args = args\n",
    "\n",
    "    def _repr_html_(self):\n",
    "        # 각 객체를 HTML 문자열로 변환한 뒤 연결\n",
    "        return '\\n'.join(\n",
    "            self.template.format(a, eval(a)._repr_html_())  # 객체 이름과 실제 객체의 HTML 출력\n",
    "            for a in self.args\n",
    "        )\n",
    "\n",
    "    def __repr__(self):\n",
    "        # 터미널 등에서의 문자열 표현\n",
    "        return '\\n\\n'.join(\n",
    "            a + '\\n' + repr(eval(a))  # 객체 이름과 객체의 문자열 표현\n",
    "            for a in self.args\n",
    "        )"
   ]
  },
  {
   "cell_type": "code",
   "execution_count": 5,
   "metadata": {},
   "outputs": [
    {
     "name": "stdout",
     "output_type": "stream",
     "text": [
      "  employee        group\n",
      "0      Bob   Accounting\n",
      "1     Jake  Engineering\n",
      "2     Lisa  Engineering\n",
      "3      Sue           HR\n"
     ]
    }
   ],
   "source": [
    "# 직원의 이름과 소속 그룹을 담은 DataFrame 생성\n",
    "df1 = pd.DataFrame({\n",
    "    'employee': ['Bob', 'Jake', 'Lisa', 'Sue'],          # 직원 이름 리스트\n",
    "    'group': ['Accounting', 'Engineering', 'Engineering', 'HR']  # 각 직원의 소속 그룹 리스트\n",
    "})\n",
    "\n",
    "# 직원의 이름과 채용 연도를 담은 두 번째 DataFrame 생성\n",
    "df2 = pd.DataFrame({\n",
    "    'employee': ['Lisa', 'Bob', 'Jake', 'Sue'],          # 직원 이름 리스트\n",
    "    'hire_date': [2004, 2008, 2012, 2014]                # 각 직원의 채용 연도 리스트\n",
    "})\n",
    "\n",
    "# 첫 번째 DataFrame(df1) 출력\n",
    "print(df1)"
   ]
  },
  {
   "cell_type": "code",
   "execution_count": 4,
   "metadata": {},
   "outputs": [
    {
     "name": "stdout",
     "output_type": "stream",
     "text": [
      "  employee  hire_date\n",
      "0     Lisa       2004\n",
      "1      Bob       2008\n",
      "2     Jake       2012\n",
      "3      Sue       2014\n"
     ]
    }
   ],
   "source": [
    "print(df2)"
   ]
  },
  {
   "cell_type": "code",
   "execution_count": 6,
   "metadata": {},
   "outputs": [
    {
     "data": {
      "text/html": [
       "<div>\n",
       "<style scoped>\n",
       "    .dataframe tbody tr th:only-of-type {\n",
       "        vertical-align: middle;\n",
       "    }\n",
       "\n",
       "    .dataframe tbody tr th {\n",
       "        vertical-align: top;\n",
       "    }\n",
       "\n",
       "    .dataframe thead th {\n",
       "        text-align: right;\n",
       "    }\n",
       "</style>\n",
       "<table border=\"1\" class=\"dataframe\">\n",
       "  <thead>\n",
       "    <tr style=\"text-align: right;\">\n",
       "      <th></th>\n",
       "      <th>employee</th>\n",
       "      <th>group</th>\n",
       "      <th>hire_date</th>\n",
       "    </tr>\n",
       "  </thead>\n",
       "  <tbody>\n",
       "    <tr>\n",
       "      <th>0</th>\n",
       "      <td>Bob</td>\n",
       "      <td>Accounting</td>\n",
       "      <td>2008</td>\n",
       "    </tr>\n",
       "    <tr>\n",
       "      <th>1</th>\n",
       "      <td>Jake</td>\n",
       "      <td>Engineering</td>\n",
       "      <td>2012</td>\n",
       "    </tr>\n",
       "    <tr>\n",
       "      <th>2</th>\n",
       "      <td>Lisa</td>\n",
       "      <td>Engineering</td>\n",
       "      <td>2004</td>\n",
       "    </tr>\n",
       "    <tr>\n",
       "      <th>3</th>\n",
       "      <td>Sue</td>\n",
       "      <td>HR</td>\n",
       "      <td>2014</td>\n",
       "    </tr>\n",
       "  </tbody>\n",
       "</table>\n",
       "</div>"
      ],
      "text/plain": [
       "  employee        group  hire_date\n",
       "0      Bob   Accounting       2008\n",
       "1     Jake  Engineering       2012\n",
       "2     Lisa  Engineering       2004\n",
       "3      Sue           HR       2014"
      ]
     },
     "execution_count": 6,
     "metadata": {},
     "output_type": "execute_result"
    }
   ],
   "source": [
    "df3 = pd.merge(df1, df2)\n",
    "df3"
   ]
  },
  {
   "cell_type": "code",
   "execution_count": 7,
   "metadata": {},
   "outputs": [
    {
     "name": "stdout",
     "output_type": "stream",
     "text": [
      "  employee        group  hire_date\n",
      "0      Bob   Accounting       2008\n",
      "1     Jake  Engineering       2012\n",
      "2     Lisa  Engineering       2004\n",
      "3      Sue           HR       2014\n",
      "         group supervisor\n",
      "0   Accounting      Carly\n",
      "1  Engineering      Guido\n",
      "2           HR      Steve\n",
      "  employee        group  hire_date supervisor\n",
      "0      Bob   Accounting       2008      Carly\n",
      "1     Jake  Engineering       2012      Guido\n",
      "2     Lisa  Engineering       2004      Guido\n",
      "3      Sue           HR       2014      Steve\n"
     ]
    }
   ],
   "source": [
    "df4 = pd.DataFrame({'group':['Accounting', 'Engineering', 'HR'],\n",
    "                    'supervisor': ['Carly', 'Guido', 'Steve']})\n",
    "print(df3)\n",
    "print(df4)\n",
    "print(pd.merge(df3, df4))"
   ]
  },
  {
   "cell_type": "code",
   "execution_count": 10,
   "metadata": {},
   "outputs": [
    {
     "name": "stdout",
     "output_type": "stream",
     "text": [
      "  employee        group\n",
      "0      Bob   Accounting\n",
      "1     Jake  Engineering\n",
      "2     Lisa  Engineering\n",
      "3      Sue           HR\n",
      "         group        skills\n",
      "0   Accounting          math\n",
      "1   Accounting  spreadsheets\n",
      "2  Engineering        coding\n",
      "3  Engineering         linux\n",
      "4           HR  spreadsheets\n",
      "5           HR  organization\n",
      "  employee        group        skills\n",
      "0      Bob   Accounting          math\n",
      "1      Bob   Accounting  spreadsheets\n",
      "2     Jake  Engineering        coding\n",
      "3     Jake  Engineering         linux\n",
      "4     Lisa  Engineering        coding\n",
      "5     Lisa  Engineering         linux\n",
      "6      Sue           HR  spreadsheets\n",
      "7      Sue           HR  organization\n"
     ]
    }
   ],
   "source": [
    "# df1 DataFrame 출력\n",
    "print(df1)  # 직원 이름과 소속 그룹이 포함된 첫 번째 DataFrame 출력\n",
    "\n",
    "# df5 DataFrame 생성 및 출력\n",
    "df5 = pd.DataFrame({\n",
    "    'group': ['Accounting', 'Accounting', 'Engineering', 'Engineering', 'HR', 'HR'],  # 각 직원의 그룹 정보 리스트\n",
    "    'skills': ['math', 'spreadsheets', 'coding', 'linux', 'spreadsheets', 'organization']  # 각 그룹별 기술 리스트\n",
    "})\n",
    "\n",
    "print(df5)  # 그룹과 기술 정보가 포함된 두 번째 DataFrame 출력\n",
    "\n",
    "# df1과 df5를 병합하여 새로운 DataFrame 생성 및 출력\n",
    "print(pd.merge(df1, df5))  # 'group' 열을 기준으로 df1과 df5를 내부 조인하여 병합한 결과 출력"
   ]
  },
  {
   "cell_type": "code",
   "execution_count": 11,
   "metadata": {},
   "outputs": [
    {
     "name": "stdout",
     "output_type": "stream",
     "text": [
      "  employee        group\n",
      "0      Bob   Accounting\n",
      "1     Jake  Engineering\n",
      "2     Lisa  Engineering\n",
      "3      Sue           HR\n",
      "  employee  hire_date\n",
      "0     Lisa       2004\n",
      "1      Bob       2008\n",
      "2     Jake       2012\n",
      "3      Sue       2014\n",
      "  employee        group  hire_date\n",
      "0      Bob   Accounting       2008\n",
      "1     Jake  Engineering       2012\n",
      "2     Lisa  Engineering       2004\n",
      "3      Sue           HR       2014\n"
     ]
    }
   ],
   "source": [
    "print(df1)\n",
    "print(df2)\n",
    "print(pd.merge(df1, df2, on = 'employee'))"
   ]
  },
  {
   "cell_type": "code",
   "execution_count": 14,
   "metadata": {},
   "outputs": [
    {
     "name": "stdout",
     "output_type": "stream",
     "text": [
      "  employee        group\n",
      "0      Bob   Accounting\n",
      "1     Jake  Engineering\n",
      "2     Lisa  Engineering\n",
      "3      Sue           HR\n",
      "   name  salary\n",
      "0   Bob   70000\n",
      "1  Jake   80000\n",
      "2  Lisa  120000\n",
      "3   Sue   90000\n",
      "  employee        group  name  salary\n",
      "0      Bob   Accounting   Bob   70000\n",
      "1     Jake  Engineering  Jake   80000\n",
      "2     Lisa  Engineering  Lisa  120000\n",
      "3      Sue           HR   Sue   90000\n"
     ]
    }
   ],
   "source": [
    "# df3 DataFrame 생성 및 출력\n",
    "df3 = pd.DataFrame({\n",
    "    'name': ['Bob', 'Jake', 'Lisa', 'Sue'],                   # 직원 이름 리스트\n",
    "    'salary': [70000, 80000, 120000, 90000]                   # 각 직원의 급여 리스트\n",
    "})\n",
    "\n",
    "# df1 DataFrame 출력\n",
    "print(df1)  # 직원 이름과 소속 그룹이 포함된 첫 번째 DataFrame 출력\n",
    "\n",
    "# df3 DataFrame 출력\n",
    "print(df3)  # 직원 이름과 급여가 포함된 세 번째 DataFrame 출력\n",
    "\n",
    "# df1과 df3을 'employee'와 'name' 열을 기준으로 병합하여 새로운 DataFrame 생성 및 출력\n",
    "print(pd.merge(df1, df3, left_on='employee', right_on='name'))  \n",
    "# 'employee' 열과 'name' 열을 기준으로 내부 조인(inner join)을 수행하여 df1과 df3을 병합"
   ]
  },
  {
   "cell_type": "code",
   "execution_count": 13,
   "metadata": {},
   "outputs": [
    {
     "data": {
      "text/html": [
       "<div>\n",
       "<style scoped>\n",
       "    .dataframe tbody tr th:only-of-type {\n",
       "        vertical-align: middle;\n",
       "    }\n",
       "\n",
       "    .dataframe tbody tr th {\n",
       "        vertical-align: top;\n",
       "    }\n",
       "\n",
       "    .dataframe thead th {\n",
       "        text-align: right;\n",
       "    }\n",
       "</style>\n",
       "<table border=\"1\" class=\"dataframe\">\n",
       "  <thead>\n",
       "    <tr style=\"text-align: right;\">\n",
       "      <th></th>\n",
       "      <th>employee</th>\n",
       "      <th>group</th>\n",
       "      <th>salary</th>\n",
       "    </tr>\n",
       "  </thead>\n",
       "  <tbody>\n",
       "    <tr>\n",
       "      <th>0</th>\n",
       "      <td>Bob</td>\n",
       "      <td>Accounting</td>\n",
       "      <td>70000</td>\n",
       "    </tr>\n",
       "    <tr>\n",
       "      <th>1</th>\n",
       "      <td>Jake</td>\n",
       "      <td>Engineering</td>\n",
       "      <td>80000</td>\n",
       "    </tr>\n",
       "    <tr>\n",
       "      <th>2</th>\n",
       "      <td>Lisa</td>\n",
       "      <td>Engineering</td>\n",
       "      <td>120000</td>\n",
       "    </tr>\n",
       "    <tr>\n",
       "      <th>3</th>\n",
       "      <td>Sue</td>\n",
       "      <td>HR</td>\n",
       "      <td>90000</td>\n",
       "    </tr>\n",
       "  </tbody>\n",
       "</table>\n",
       "</div>"
      ],
      "text/plain": [
       "  employee        group  salary\n",
       "0      Bob   Accounting   70000\n",
       "1     Jake  Engineering   80000\n",
       "2     Lisa  Engineering  120000\n",
       "3      Sue           HR   90000"
      ]
     },
     "execution_count": 13,
     "metadata": {},
     "output_type": "execute_result"
    }
   ],
   "source": [
    "pd.merge(df1, df3, left_on = 'employee', right_on = 'name').drop('name', axis = 1)"
   ]
  },
  {
   "cell_type": "code",
   "execution_count": 15,
   "metadata": {},
   "outputs": [
    {
     "name": "stdout",
     "output_type": "stream",
     "text": [
      "                group\n",
      "employee             \n",
      "Bob        Accounting\n",
      "Jake      Engineering\n",
      "Lisa      Engineering\n",
      "Sue                HR\n",
      "          hire_date\n",
      "employee           \n",
      "Lisa           2004\n",
      "Bob            2008\n",
      "Jake           2012\n",
      "Sue            2014\n"
     ]
    }
   ],
   "source": [
    "df1a = df1.set_index('employee')\n",
    "df2a = df2.set_index('employee')\n",
    "\n",
    "print(df1a)\n",
    "print(df2a)\n"
   ]
  },
  {
   "cell_type": "code",
   "execution_count": 16,
   "metadata": {},
   "outputs": [
    {
     "name": "stdout",
     "output_type": "stream",
     "text": [
      "                group\n",
      "employee             \n",
      "Bob        Accounting\n",
      "Jake      Engineering\n",
      "Lisa      Engineering\n",
      "Sue                HR\n",
      "          hire_date\n",
      "employee           \n",
      "Lisa           2004\n",
      "Bob            2008\n",
      "Jake           2012\n",
      "Sue            2014\n",
      "                group  hire_date\n",
      "employee                        \n",
      "Bob        Accounting       2008\n",
      "Jake      Engineering       2012\n",
      "Lisa      Engineering       2004\n",
      "Sue                HR       2014\n"
     ]
    }
   ],
   "source": [
    "# df1a DataFrame 출력\n",
    "print(df1a)  # 'employee' 열을 인덱스로 설정한 df1a를 출력\n",
    "\n",
    "# df2a DataFrame 출력\n",
    "print(df2a)  # 'employee' 열을 인덱스로 설정한 df2a를 출력\n",
    "\n",
    "# df1a와 df2a를 인덱스를 기준으로 병합하여 새로운 DataFrame 생성 및 출력\n",
    "print(pd.merge(df1a, df2a, left_index=True, right_index=True))  # 인덱스를 기준으로 내부 조인(inner join)을 수행하여 두 DataFrame을 병합한 결과를 출력"
   ]
  },
  {
   "cell_type": "code",
   "execution_count": 17,
   "metadata": {},
   "outputs": [
    {
     "name": "stdout",
     "output_type": "stream",
     "text": [
      "                group\n",
      "employee             \n",
      "Bob        Accounting\n",
      "Jake      Engineering\n",
      "Lisa      Engineering\n",
      "Sue                HR\n",
      "          hire_date\n",
      "employee           \n",
      "Lisa           2004\n",
      "Bob            2008\n",
      "Jake           2012\n",
      "Sue            2014\n",
      "                group  hire_date\n",
      "employee                        \n",
      "Bob        Accounting       2008\n",
      "Jake      Engineering       2012\n",
      "Lisa      Engineering       2004\n",
      "Sue                HR       2014\n"
     ]
    }
   ],
   "source": [
    "# df1a DataFrame 출력\n",
    "print(df1a)  # 'employee' 열을 인덱스로 설정한 df1a DataFrame의 내용을 콘솔에 출력합니다.\n",
    "# 출력 예시:\n",
    "#           group\n",
    "# employee         \n",
    "# Bob    Accounting\n",
    "# Jake  Engineering\n",
    "# Lisa  Engineering\n",
    "# Sue           HR\n",
    "\n",
    "# df2a DataFrame 출력\n",
    "print(df2a)  # 'employee' 열을 인덱스로 설정한 df2a DataFrame의 내용을 콘솔에 출력합니다.\n",
    "# 출력 예시:\n",
    "#            hire_date\n",
    "# employee            \n",
    "# Lisa           2004\n",
    "# Bob            2008\n",
    "# Jake           2012\n",
    "# Sue            2014\n",
    "\n",
    "# df1a와 df2a를 인덱스를 기준으로 병합하여 새로운 DataFrame 생성 및 출력\n",
    "print(df1a.join(df2a))  \n",
    "# df1a의 인덱스('employee')와 df2a의 인덱스('employee')를 기준으로 병합하여 새로운 DataFrame을 생성합니다.\n",
    "# 병합된 DataFrame의 내용을 콘솔에 출력합니다.\n",
    "# 출력 예시:\n",
    "#           group  hire_date\n",
    "# employee                   \n",
    "# Bob    Accounting        2008\n",
    "# Jake  Engineering        2012\n",
    "# Lisa  Engineering        2004\n",
    "# Sue           HR        2014"
   ]
  },
  {
   "cell_type": "code",
   "execution_count": 18,
   "metadata": {},
   "outputs": [
    {
     "name": "stdout",
     "output_type": "stream",
     "text": [
      "                group\n",
      "employee             \n",
      "Bob        Accounting\n",
      "Jake      Engineering\n",
      "Lisa      Engineering\n",
      "Sue                HR\n",
      "   name  salary\n",
      "0   Bob   70000\n",
      "1  Jake   80000\n",
      "2  Lisa  120000\n",
      "3   Sue   90000\n",
      "         group  name  salary\n",
      "0   Accounting   Bob   70000\n",
      "1  Engineering  Jake   80000\n",
      "2  Engineering  Lisa  120000\n",
      "3           HR   Sue   90000\n"
     ]
    }
   ],
   "source": [
    "print(df1a)\n",
    "print(df3)\n",
    "print(pd.merge(df1a, df3, left_index = True, right_on = 'name'))"
   ]
  },
  {
   "cell_type": "code",
   "execution_count": 21,
   "metadata": {},
   "outputs": [
    {
     "name": "stdout",
     "output_type": "stream",
     "text": [
      "    name   food\n",
      "0  Peter   fish\n",
      "1   Paul  beans\n",
      "2   Mary  bread\n",
      "     name drink\n",
      "0    Mary  wine\n",
      "1  Joseph  beer\n",
      "   name   food drink\n",
      "0  Mary  bread  wine\n"
     ]
    }
   ],
   "source": [
    "# df6 DataFrame 생성\n",
    "df6 = pd.DataFrame({\n",
    "    'name': ['Peter', 'Paul', 'Mary'],  # 이름 리스트\n",
    "    'food': ['fish', 'beans', 'bread']  # 음식 리스트\n",
    "}, columns=['name', 'food'])  # 열 순서 지정\n",
    "\n",
    "# df7 DataFrame 생성\n",
    "df7 = pd.DataFrame({\n",
    "    'name': ['Mary', 'Joseph'],  # 이름 리스트\n",
    "    'drink': ['wine', 'beer']    # 음료 리스트\n",
    "}, columns=['name', 'drink'])      # 열 순서 지정\n",
    "\n",
    "# df6 출력\n",
    "print(df6)\n",
    "\n",
    "# df7 출력\n",
    "print(df7)\n",
    "\n",
    "# df6과 df7을 'name' 열을 기준으로 병합\n",
    "print(pd.merge(df6, df7))"
   ]
  },
  {
   "cell_type": "code",
   "execution_count": 22,
   "metadata": {},
   "outputs": [
    {
     "data": {
      "text/html": [
       "<div>\n",
       "<style scoped>\n",
       "    .dataframe tbody tr th:only-of-type {\n",
       "        vertical-align: middle;\n",
       "    }\n",
       "\n",
       "    .dataframe tbody tr th {\n",
       "        vertical-align: top;\n",
       "    }\n",
       "\n",
       "    .dataframe thead th {\n",
       "        text-align: right;\n",
       "    }\n",
       "</style>\n",
       "<table border=\"1\" class=\"dataframe\">\n",
       "  <thead>\n",
       "    <tr style=\"text-align: right;\">\n",
       "      <th></th>\n",
       "      <th>name</th>\n",
       "      <th>food</th>\n",
       "      <th>drink</th>\n",
       "    </tr>\n",
       "  </thead>\n",
       "  <tbody>\n",
       "    <tr>\n",
       "      <th>0</th>\n",
       "      <td>Mary</td>\n",
       "      <td>bread</td>\n",
       "      <td>wine</td>\n",
       "    </tr>\n",
       "  </tbody>\n",
       "</table>\n",
       "</div>"
      ],
      "text/plain": [
       "   name   food drink\n",
       "0  Mary  bread  wine"
      ]
     },
     "execution_count": 22,
     "metadata": {},
     "output_type": "execute_result"
    }
   ],
   "source": [
    "# df6 DataFrame 출력\n",
    "print(df6)  # 'name'과 'food' 열을 가진 df6 DataFrame의 내용을 출력합니다.\n",
    "# 예시 출력:\n",
    "#     name       food\n",
    "# 0  Peter        fish\n",
    "# 1   Paul       beans\n",
    "# 2   Mary       bread\n",
    "\n",
    "# df7 DataFrame 출력\n",
    "print(df7)  # 'name'과 'drink' 열을 가진 df7 DataFrame의 내용을 출력합니다.\n",
    "# 예시 출력:\n",
    "#      name  drink\n",
    "# 0   Mary   wine\n",
    "# 1  Joseph  beer\n",
    "\n",
    "# df6과 df7을 'name' 열을 기준으로 내부 조인(inner join)하여 병합한 결과를 출력\n",
    "print(pd.merge(df6, df7, how='inner'))  \n",
    "# 'name' 열을 기준으로 df6과 df7을 병합합니다.\n",
    "# 내부 조인(inner join)을 사용하므로, 양쪽 DataFrame에 모두 존재하는 'name' 값에 대해서만 병합이 이루어집니다.\n",
    "# 예시 출력:\n",
    "#    name   food  drink\n",
    "# 0  Mary  bread   wine"
   ]
  },
  {
   "cell_type": "code",
   "execution_count": 23,
   "metadata": {},
   "outputs": [
    {
     "name": "stdout",
     "output_type": "stream",
     "text": [
      "    name   food\n",
      "0  Peter   fish\n",
      "1   Paul  beans\n",
      "2   Mary  bread\n",
      "     name drink\n",
      "0    Mary  wine\n",
      "1  Joseph  beer\n",
      "     name   food drink\n",
      "0   Peter   fish   NaN\n",
      "1    Paul  beans   NaN\n",
      "2    Mary  bread  wine\n",
      "3  Joseph    NaN  beer\n"
     ]
    }
   ],
   "source": [
    "# df6 DataFrame 출력\n",
    "print(df6)  # 'name'과 'food' 열을 가진 df6 DataFrame의 내용을 콘솔에 출력합니다.\n",
    "# 예시 출력:\n",
    "#     name       food\n",
    "# 0  Peter        fish\n",
    "# 1   Paul       beans\n",
    "# 2   Mary       bread\n",
    "\n",
    "# df7 DataFrame 출력\n",
    "print(df7)  # 'name'과 'drink' 열을 가진 df7 DataFrame의 내용을 콘솔에 출력합니다.\n",
    "# 예시 출력:\n",
    "#      name  drink\n",
    "# 0   Mary   wine\n",
    "# 1  Joseph  beer\n",
    "\n",
    "# df6과 df7을 'name' 열을 기준으로 외부 조인(outer join)하여 병합한 결과를 출력\n",
    "print(pd.merge(df6, df7, how='outer'))\n",
    "# 외부 조인을 사용하면 양쪽 DataFrame에 있는 모든 행이 포함되며, 일치하지 않는 데이터는 NaN으로 표시됩니다.\n",
    "# 예시 출력:\n",
    "#      name       food  drink\n",
    "# 0  Peter        fish    NaN\n",
    "# 1   Paul       beans    NaN\n",
    "# 2   Mary       bread   wine\n",
    "# 3 Joseph         NaN   beer"
   ]
  },
  {
   "cell_type": "code",
   "execution_count": 24,
   "metadata": {},
   "outputs": [
    {
     "name": "stdout",
     "output_type": "stream",
     "text": [
      "    name   food\n",
      "0  Peter   fish\n",
      "1   Paul  beans\n",
      "2   Mary  bread\n",
      "     name drink\n",
      "0    Mary  wine\n",
      "1  Joseph  beer\n",
      "    name   food drink\n",
      "0  Peter   fish   NaN\n",
      "1   Paul  beans   NaN\n",
      "2   Mary  bread  wine\n"
     ]
    }
   ],
   "source": [
    "# df6 DataFrame 출력\n",
    "print(df6)  # 'name'과 'food' 열을 가진 df6 DataFrame을 출력합니다.\n",
    "# 예시 출력:\n",
    "#     name       food\n",
    "# 0  Peter        fish\n",
    "# 1   Paul       beans\n",
    "# 2   Mary       bread\n",
    "\n",
    "# df7 DataFrame 출력\n",
    "print(df7)  # 'name'과 'drink' 열을 가진 df7 DataFrame을 출력합니다.\n",
    "# 예시 출력:\n",
    "#      name  drink\n",
    "# 0   Mary   wine\n",
    "# 1  Joseph   beer\n",
    "\n",
    "# df6과 df7을 'name' 열을 기준으로 왼쪽 외부 조인(left join)하여 병합한 결과를 출력\n",
    "print(pd.merge(df6, df7, how='left'))  # 왼쪽 DataFrame(df6)의 모든 행을 유지하면서, 오른쪽 DataFrame(df7)과 'name' 열을 기준으로 병합합니다.\n",
    "# 예시 출력:\n",
    "#      name       food  drink\n",
    "# 0  Peter        fish    NaN\n",
    "# 1   Paul       beans    NaN\n",
    "# 2   Mary       bread   wine\n",
    "# 3 Joseph         NaN   beer"
   ]
  },
  {
   "cell_type": "code",
   "execution_count": 25,
   "metadata": {},
   "outputs": [
    {
     "name": "stdout",
     "output_type": "stream",
     "text": [
      "    name   food\n",
      "0  Peter   fish\n",
      "1   Paul  beans\n",
      "2   Mary  bread\n",
      "     name drink\n",
      "0    Mary  wine\n",
      "1  Joseph  beer\n",
      "     name   food drink\n",
      "0    Mary  bread  wine\n",
      "1  Joseph    NaN  beer\n"
     ]
    }
   ],
   "source": [
    "# df6 DataFrame 출력\n",
    "print(df6)  # 'name'과 'food' 열을 가진 df6 DataFrame의 내용을 콘솔에 출력합니다.\n",
    "# 예시 출력:\n",
    "#     name       food\n",
    "# 0  Peter        fish\n",
    "# 1   Paul       beans\n",
    "# 2   Mary       bread\n",
    "\n",
    "# df7 DataFrame 출력\n",
    "print(df7)  # 'name'과 'drink' 열을 가진 df7 DataFrame의 내용을 콘솔에 출력합니다.\n",
    "# 예시 출력:\n",
    "#      name  drink\n",
    "# 0   Mary   wine\n",
    "# 1  Joseph   beer\n",
    "\n",
    "# df6과 df7을 'name' 열을 기준으로 오른쪽 외부 조인(right join)하여 병합한 결과를 출력\n",
    "print(pd.merge(df6, df7, how='right'))  \n",
    "# 오른쪽 외부 조인(right join)을 사용하면 오른쪽 DataFrame(df7)의 모든 행이 포함되며,\n",
    "# 왼쪽 DataFrame(df6)에 일치하는 데이터가 없는 경우 NaN으로 표시됩니다.\n",
    "# 예시 출력:\n",
    "#      name   food drink\n",
    "# 0   Mary  bread  wine\n",
    "# 1 Joseph     NaN beer"
   ]
  },
  {
   "cell_type": "code",
   "execution_count": 26,
   "metadata": {},
   "outputs": [
    {
     "name": "stdout",
     "output_type": "stream",
     "text": [
      "   name  rank\n",
      "0   Bob     1\n",
      "1  Jake     2\n",
      "2  Lisa     3\n",
      "3   Sue     4\n",
      "   name  rank\n",
      "0   Bob     3\n",
      "1  Jake     1\n",
      "2  Lisa     4\n",
      "3   Sue     2\n",
      "   name  rank_x  rank_y\n",
      "0   Bob       1       3\n",
      "1  Jake       2       1\n",
      "2  Lisa       3       4\n",
      "3   Sue       4       2\n"
     ]
    }
   ],
   "source": [
    "# df8 DataFrame 생성\n",
    "df8 = pd.DataFrame({\n",
    "    'name': ['Bob', 'Jake', 'Lisa', 'Sue'],  # 직원의 이름 리스트\n",
    "    'rank': [1, 2, 3, 4]                      # 각 직원의 순위를 나타내는 리스트\n",
    "})\n",
    "\n",
    "# df9 DataFrame 생성\n",
    "df9 = pd.DataFrame({\n",
    "    'name': ['Bob', 'Jake', 'Lisa', 'Sue'],  # 직원의 이름 리스트 (df8과 동일)\n",
    "    'rank': [3, 1, 4, 2]                      # 각 직원의 다른 순위를 나타내는 리스트\n",
    "})\n",
    "\n",
    "# df8 출력\n",
    "print(df8)  # df8 DataFrame의 내용을 콘솔에 출력\n",
    "# 출력 예시:\n",
    "#    name  rank\n",
    "# 0   Bob     1\n",
    "# 1  Jake     2\n",
    "# 2  Lisa     3\n",
    "# 3   Sue     4\n",
    "\n",
    "# df9 출력\n",
    "print(df9)  # df9 DataFrame의 내용을 콘솔에 출력\n",
    "# 출력 예시:\n",
    "#    name  rank\n",
    "# 0   Bob     3\n",
    "# 1  Jake     1\n",
    "# 2  Lisa     4\n",
    "# 3   Sue     2\n",
    "\n",
    "# df8과 df9를 'name' 열을 기준으로 병합하여 새로운 DataFrame 생성 및 출력\n",
    "print(pd.merge(df8, df9, on='name'))\n",
    "# 병합 결과 예시:\n",
    "#    name  rank_x  rank_y\n",
    "# 0   Bob       1       3\n",
    "# 1  Jake       2       1\n",
    "# 2  Lisa       3       4\n",
    "# 3   Sue       4       2\n",
    "\n",
    "# 상세 주석 설명:\n",
    "\n",
    "# 1. df8 DataFrame 생성\n",
    "#    - 'name' 열에는 직원의 이름이 담겨 있습니다.\n",
    "#    - 'rank' 열에는 각 직원의 순위가 담겨 있습니다.\n",
    "#    - 예를 들어, Bob의 순위는 1입니다.\n",
    "\n",
    "# 2. df9 DataFrame 생성\n",
    "#    - 'name' 열과 'rank' 열은 df8과 동일한 구조를 가지고 있습니다.\n",
    "#    - 그러나 'rank' 값이 df8과 다르게 설정되어 있습니다.\n",
    "#    - 예를 들어, Bob의 순위는 3으로 변경되었습니다.\n",
    "\n",
    "# 3. df8 출력\n",
    "#    - 생성된 df8 DataFrame의 내용을 확인하기 위해 출력합니다.\n",
    "#    - 직원의 이름과 그에 따른 순위가 출력됩니다.\n",
    "\n",
    "# 4. df9 출력\n",
    "#    - 생성된 df9 DataFrame의 내용을 확인하기 위해 출력합니다.\n",
    "#    - 직원의 이름과 그에 따른 다른 순위가 출력됩니다.\n",
    "\n",
    "# 5. df8과 df9 병합\n",
    "#    - `pd.merge()` 함수를 사용하여 df8과 df9를 병합합니다.\n",
    "#    - 병합 기준 열은 'name'으로 설정하여, 두 DataFrame에서 동일한 이름을 가진 행끼리 병합됩니다.\n",
    "#    - 병합 결과에서는 'rank' 열이 두 개 생기며, 각각 'rank_x' (df8의 rank)와 'rank_y' (df9의 rank)로 표시됩니다.\n",
    "#    - 예를 들어, Bob의 경우 df8에서 rank_x는 1이고 df9에서 rank_y는 3입니다.\n",
    "#    - 이와 같이 병합된 DataFrame을 통해 각 직원의 두 가지 순위를 한눈에 비교할 수 있습니다."
   ]
  },
  {
   "cell_type": "code",
   "execution_count": 27,
   "metadata": {},
   "outputs": [
    {
     "name": "stdout",
     "output_type": "stream",
     "text": [
      "   name  rank\n",
      "0   Bob     1\n",
      "1  Jake     2\n",
      "2  Lisa     3\n",
      "3   Sue     4\n",
      "   name  rank\n",
      "0   Bob     3\n",
      "1  Jake     1\n",
      "2  Lisa     4\n",
      "3   Sue     2\n",
      "   name  rank_L  rank_R\n",
      "0   Bob       1       3\n",
      "1  Jake       2       1\n",
      "2  Lisa       3       4\n",
      "3   Sue       4       2\n"
     ]
    }
   ],
   "source": [
    "# df8 DataFrame 출력\n",
    "print(df8)  # 'name'과 'rank' 열을 가진 df8 DataFrame을 출력합니다.\n",
    "# 예시 출력:\n",
    "#    name  rank\n",
    "# 0   Bob     1\n",
    "# 1  Jake     2\n",
    "# 2  Lisa     3\n",
    "# 3   Sue     4\n",
    "\n",
    "# df9 DataFrame 출력\n",
    "print(df9)  # 'name'과 'rank' 열을 가진 df9 DataFrame을 출력합니다.\n",
    "# 예시 출력:\n",
    "#    name  rank\n",
    "# 0   Bob     3\n",
    "# 1  Jake     1\n",
    "# 2  Lisa     4\n",
    "# 3   Sue     2\n",
    "\n",
    "# df8과 df9를 'name' 열을 기준으로 병합하여 새로운 DataFrame 생성 및 출력\n",
    "print(pd.merge(df8, df9, on='name', suffixes=[\"_L\", \"_R\"]))\n",
    "# 'name' 열을 기준으로 df8과 df9를 내부 조인(inner join) 방식으로 병합합니다.\n",
    "# 공통된 'name' 값을 가진 행들만 병합되며, 중복된 'rank' 열은 접미사 '_L'과 '_R'이 붙습니다.\n",
    "# 예시 출력:\n",
    "#    name  rank_L  rank_R\n",
    "# 0   Bob       1       3\n",
    "# 1  Jake       2       1\n",
    "# 2  Lisa       3       4\n",
    "# 3   Sue       4       2"
   ]
  }
 ],
 "metadata": {
  "kernelspec": {
   "display_name": "yeardream",
   "language": "python",
   "name": "python3"
  },
  "language_info": {
   "codemirror_mode": {
    "name": "ipython",
    "version": 3
   },
   "file_extension": ".py",
   "mimetype": "text/x-python",
   "name": "python",
   "nbconvert_exporter": "python",
   "pygments_lexer": "ipython3",
   "version": "3.9.19"
  }
 },
 "nbformat": 4,
 "nbformat_minor": 2
}
