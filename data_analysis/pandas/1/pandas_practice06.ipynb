{
 "cells": [
  {
   "cell_type": "code",
   "execution_count": 1,
   "metadata": {},
   "outputs": [],
   "source": [
    "import pandas as pd\n",
    "import numpy as np"
   ]
  },
  {
   "cell_type": "code",
   "execution_count": 3,
   "metadata": {},
   "outputs": [
    {
     "data": {
      "text/html": [
       "<div>\n",
       "<style scoped>\n",
       "    .dataframe tbody tr th:only-of-type {\n",
       "        vertical-align: middle;\n",
       "    }\n",
       "\n",
       "    .dataframe tbody tr th {\n",
       "        vertical-align: top;\n",
       "    }\n",
       "\n",
       "    .dataframe thead th {\n",
       "        text-align: right;\n",
       "    }\n",
       "</style>\n",
       "<table border=\"1\" class=\"dataframe\">\n",
       "  <thead>\n",
       "    <tr style=\"text-align: right;\">\n",
       "      <th></th>\n",
       "      <th>A</th>\n",
       "      <th>B</th>\n",
       "      <th>C</th>\n",
       "    </tr>\n",
       "  </thead>\n",
       "  <tbody>\n",
       "    <tr>\n",
       "      <th>0</th>\n",
       "      <td>A0</td>\n",
       "      <td>B0</td>\n",
       "      <td>C0</td>\n",
       "    </tr>\n",
       "    <tr>\n",
       "      <th>1</th>\n",
       "      <td>A1</td>\n",
       "      <td>B1</td>\n",
       "      <td>C1</td>\n",
       "    </tr>\n",
       "    <tr>\n",
       "      <th>2</th>\n",
       "      <td>A2</td>\n",
       "      <td>B2</td>\n",
       "      <td>C2</td>\n",
       "    </tr>\n",
       "  </tbody>\n",
       "</table>\n",
       "</div>"
      ],
      "text/plain": [
       "    A   B   C\n",
       "0  A0  B0  C0\n",
       "1  A1  B1  C1\n",
       "2  A2  B2  C2"
      ]
     },
     "execution_count": 3,
     "metadata": {},
     "output_type": "execute_result"
    }
   ],
   "source": [
    "def make_df(cols, ind):\n",
    "    \"\"\"빠르게 DataFrame 생성\"\"\"\n",
    "    # Dictionary 컴프리헨션을 통해 각 열 이름(c)에 대해 데이터를 생성\n",
    "    # 예) c='A', ind=[0,1,2] -> 'A0','A1','A2' 형태의 리스트\n",
    "    data = {\n",
    "        c: [str(c) + str(i) for i in ind]  # 열 이름과 인덱스를 문자열로 합침\n",
    "        for c in cols\n",
    "    }\n",
    "    # 생성한 데이터 딕셔너리를 사용해 DataFrame을 만들고, 인덱스로 ind를 사용\n",
    "    return pd.DataFrame(data, ind)\n",
    "\n",
    "# DataFrame 예제\n",
    "make_df('ABC', range(2+1))\n"
   ]
  },
  {
   "cell_type": "code",
   "execution_count": 4,
   "metadata": {},
   "outputs": [],
   "source": [
    "class display(object):\n",
    "    \"\"\"여러 객체를 HTML 형태로 표시\"\"\"\n",
    "\n",
    "    # HTML 템플릿 문자열\n",
    "    template = \"\"\"<div style=\"float: left; padding: 10px;\">\n",
    "    <p style='font-family:\"Courier New\", Courier, monospace'>{0}{1}\n",
    "    \"\"\"\n",
    "\n",
    "    def __init__(self, *args):\n",
    "        # 여러 개의 객체 이름을 args에 저장\n",
    "        self.args = args\n",
    "\n",
    "    def _repr_html_(self):\n",
    "        # 각 객체를 HTML 문자열로 변환한 뒤 연결\n",
    "        return '\\n'.join(\n",
    "            self.template.format(a, eval(a)._repr_html_())  # 객체 이름과 실제 객체의 HTML 출력\n",
    "            for a in self.args\n",
    "        )\n",
    "\n",
    "    def __repr__(self):\n",
    "        # 터미널 등에서의 문자열 표현\n",
    "        return '\\n\\n'.join(\n",
    "            a + '\\n' + repr(eval(a))  # 객체 이름과 객체의 문자열 표현\n",
    "            for a in self.args\n",
    "        )"
   ]
  },
  {
   "cell_type": "code",
   "execution_count": 5,
   "metadata": {},
   "outputs": [
    {
     "data": {
      "text/plain": [
       "array([1, 2, 3, 4, 5, 6, 7, 8, 9])"
      ]
     },
     "execution_count": 5,
     "metadata": {},
     "output_type": "execute_result"
    }
   ],
   "source": [
    "import numpy as np  # NumPy 라이브러리 불러오기\n",
    "\n",
    "# x, y, z 리스트 정의\n",
    "x = [1, 2, 3]       # 길이가 3인 리스트\n",
    "y = [4, 5, 6]       # 길이가 3인 리스트\n",
    "z = [7, 8, 9]       # 길이가 3인 리스트\n",
    "\n",
    "# np.concatenate() 함수를 이용해 여러 리스트를 하나의 NumPy 배열로 연결\n",
    "# 기준 축(axis)은 0이 기본값이며, \n",
    "# 리스트(또는 1차원 배열)를 순차적으로 이어붙이며 1차원 배열을 생성\n",
    "result = np.concatenate([x, y, z])\n",
    "\n",
    "# 결과 출력: 연결된 배열 [1 2 3 4 5 6 7 8 9]\n",
    "print(result)"
   ]
  },
  {
   "cell_type": "code",
   "execution_count": null,
   "metadata": {},
   "outputs": [
    {
     "name": "stdout",
     "output_type": "stream",
     "text": [
      "[[1 2 1 2]\n",
      " [3 4 3 4]]\n"
     ]
    }
   ],
   "source": [
    "x = [[1, 2],\n",
    "     [3, 4]]\n",
    "np.concatenate([x, x], axis = 1)"
   ]
  },
  {
   "cell_type": "code",
   "execution_count": 8,
   "metadata": {},
   "outputs": [
    {
     "name": "stdout",
     "output_type": "stream",
     "text": [
      "[[1 2 1 2]\n",
      " [3 4 3 4]]\n"
     ]
    }
   ],
   "source": [
    "import numpy as np  # NumPy 라이브러리 불러오기\n",
    "\n",
    "# 2차원 리스트 x 정의\n",
    "# x는 2x2 형태의 리스트이며, 내부 요소는 정수\n",
    "x = [\n",
    "    [1, 2],  # 첫 번째 행\n",
    "    [3, 4]   # 두 번째 행\n",
    "]\n",
    "\n",
    "# np.concatenate() 함수를 이용해 x를 열 방향(axis=1)으로 이어 붙임\n",
    "# 즉, x의 열(가로)을 확장하는 방식으로 연결\n",
    "result = np.concatenate([x, x], axis=1)\n",
    "\n",
    "# 결과 출력: \n",
    "# [[1 2 1 2]\n",
    "#  [3 4 3 4]]\n",
    "print(result)"
   ]
  },
  {
   "cell_type": "code",
   "execution_count": 9,
   "metadata": {},
   "outputs": [
    {
     "ename": "NameError",
     "evalue": "name 'objs' is not defined",
     "output_type": "error",
     "traceback": [
      "\u001b[0;31m---------------------------------------------------------------------------\u001b[0m",
      "\u001b[0;31mNameError\u001b[0m                                 Traceback (most recent call last)",
      "Cell \u001b[0;32mIn[9], line 1\u001b[0m\n\u001b[0;32m----> 1\u001b[0m pd\u001b[38;5;241m.\u001b[39mconcat(\u001b[43mobjs\u001b[49m, axis \u001b[38;5;241m=\u001b[39m \u001b[38;5;241m0\u001b[39m, join \u001b[38;5;241m=\u001b[39m \u001b[38;5;124m'\u001b[39m\u001b[38;5;124mouter\u001b[39m\u001b[38;5;124m'\u001b[39m, join_axis \u001b[38;5;241m=\u001b[39m \u001b[38;5;28;01mNone\u001b[39;00m, ignore_index \u001b[38;5;241m=\u001b[39m \u001b[38;5;28;01mFalse\u001b[39;00m,\n\u001b[1;32m      2\u001b[0m           keys \u001b[38;5;241m=\u001b[39m \u001b[38;5;28;01mNone\u001b[39;00m, levels \u001b[38;5;241m=\u001b[39m \u001b[38;5;28;01mNone\u001b[39;00m, names \u001b[38;5;241m=\u001b[39m \u001b[38;5;28;01mNone\u001b[39;00m, verify_integrity \u001b[38;5;241m=\u001b[39m \u001b[38;5;28;01mFalse\u001b[39;00m,\n\u001b[1;32m      3\u001b[0m           copy \u001b[38;5;241m=\u001b[39m \u001b[38;5;28;01mTrue\u001b[39;00m)\n",
      "\u001b[0;31mNameError\u001b[0m: name 'objs' is not defined"
     ]
    }
   ],
   "source": [
    "pd.concat(objs, axis = 0, join = 'outer', join_axis = None, ignore_index = False,\n",
    "          keys = None, levels = None, names = None, verify_integrity = False,\n",
    "          copy = True)"
   ]
  },
  {
   "cell_type": "code",
   "execution_count": 10,
   "metadata": {},
   "outputs": [
    {
     "data": {
      "text/plain": [
       "1    A\n",
       "2    B\n",
       "3    C\n",
       "4    D\n",
       "5    E\n",
       "6    F\n",
       "dtype: object"
      ]
     },
     "execution_count": 10,
     "metadata": {},
     "output_type": "execute_result"
    }
   ],
   "source": [
    "import pandas as pd  # pandas 라이브러리 불러오기\n",
    "\n",
    "# 두 개의 Series 정의 \n",
    "# ser1: 인덱스가 [1, 2, 3], 값이 ['A', 'B', 'C']\n",
    "ser1 = pd.Series(['A', 'B', 'C'], index=[1, 2, 3])\n",
    "\n",
    "# ser2: 인덱스가 [4, 5, 6], 값이 ['D', 'E', 'F']\n",
    "ser2 = pd.Series(['D', 'E', 'F'], index=[4, 5, 6])\n",
    "\n",
    "# pd.concat()을 사용하여 ser1과 ser2를 하나의 Series로 연결\n",
    "# 기본적으로 axis=0(행 방향)로 이어 붙임\n",
    "result = pd.concat([ser1, ser2])\n",
    "\n",
    "# 결과 출력: 인덱스가 1,2,3,4,5,6이 되고\n",
    "# 값이 A,B,C,D,E,F 순서로 연결된 새로운 Series 생성\n",
    "print(result)"
   ]
  },
  {
   "cell_type": "code",
   "execution_count": 13,
   "metadata": {},
   "outputs": [
    {
     "name": "stdout",
     "output_type": "stream",
     "text": [
      "    A   B\n",
      "1  A1  B1\n",
      "2  A2  B2\n"
     ]
    }
   ],
   "source": [
    "df1 = make_df('AB', [1, 2])\n",
    "df2 = make_df('AB', [3, 4])\n",
    "print(df1)"
   ]
  },
  {
   "cell_type": "code",
   "execution_count": 14,
   "metadata": {},
   "outputs": [
    {
     "name": "stdout",
     "output_type": "stream",
     "text": [
      "    A   B\n",
      "3  A3  B3\n",
      "4  A4  B4\n"
     ]
    }
   ],
   "source": [
    "print(df2)"
   ]
  },
  {
   "cell_type": "code",
   "execution_count": 15,
   "metadata": {},
   "outputs": [
    {
     "name": "stdout",
     "output_type": "stream",
     "text": [
      "    A   B\n",
      "1  A1  B1\n",
      "2  A2  B2\n",
      "3  A3  B3\n",
      "4  A4  B4\n"
     ]
    }
   ],
   "source": [
    "print(pd.concat([df1, df2])) # 기본은 axis = 0"
   ]
  },
  {
   "cell_type": "code",
   "execution_count": 16,
   "metadata": {},
   "outputs": [
    {
     "name": "stdout",
     "output_type": "stream",
     "text": [
      "    A   B\n",
      "0  A0  B0\n",
      "1  A1  B1\n"
     ]
    }
   ],
   "source": [
    "df3 = make_df('AB', [0, 1])\n",
    "df4 = make_df('CD', [0, 1])\n",
    "print(df3)"
   ]
  },
  {
   "cell_type": "code",
   "execution_count": 17,
   "metadata": {},
   "outputs": [
    {
     "name": "stdout",
     "output_type": "stream",
     "text": [
      "    C   D\n",
      "0  C0  D0\n",
      "1  C1  D1\n"
     ]
    }
   ],
   "source": [
    "print(df4)"
   ]
  },
  {
   "cell_type": "code",
   "execution_count": 18,
   "metadata": {},
   "outputs": [
    {
     "name": "stdout",
     "output_type": "stream",
     "text": [
      "    A   B   C   D\n",
      "0  A0  B0  C0  D0\n",
      "1  A1  B1  C1  D1\n"
     ]
    }
   ],
   "source": [
    "print(pd.concat([df3, df4], axis = 1))"
   ]
  },
  {
   "cell_type": "code",
   "execution_count": 19,
   "metadata": {},
   "outputs": [
    {
     "name": "stdout",
     "output_type": "stream",
     "text": [
      "    A   B\n",
      "0  A0  B0\n",
      "1  A1  B1\n",
      "    A   B\n",
      "0  A2  B2\n",
      "1  A3  B3\n",
      "    A   B\n",
      "0  A0  B0\n",
      "1  A1  B1\n",
      "0  A2  B2\n",
      "1  A3  B3\n"
     ]
    }
   ],
   "source": [
    "import pandas as pd\n",
    "\n",
    "def make_df(cols, ind):\n",
    "    \"\"\"빠르게 DataFrame 생성\"\"\"\n",
    "    data = {c: [str(c) + str(i) for i in ind] for c in cols}\n",
    "    return pd.DataFrame(data, ind)\n",
    "\n",
    "# x, y라는 두 개의 DataFrame 생성\n",
    "# 각 DataFrame은 열(cols='AB')과 인덱스(ind=[0,1], [2,3])로 구성\n",
    "x = make_df('AB', [0, 1])  # 인덱스 0,1\n",
    "y = make_df('AB', [2, 3])  # 인덱스 2,3\n",
    "\n",
    "# y의 인덱스를 x의 인덱스로 덮어씀 -> 인덱스가 0,1이됨\n",
    "y.index = x.index  # 인덱스가 완전히 동일\n",
    "\n",
    "# x, y 출력\n",
    "print(\"DataFrame x:\")\n",
    "print(x)\n",
    "print(\"\\nDataFrame y:\")\n",
    "print(y)\n",
    "\n",
    "# pd.concat()으로 x, y를 연결\n",
    "# 기본으로 axis=0(행 방향)으로 연결하므로, \n",
    "# 인덱스가 동일해서 중복된 인덱스가 생김\n",
    "print(\"\\nConcatenated DataFrame:\")\n",
    "print(pd.concat([x, y]))"
   ]
  },
  {
   "cell_type": "code",
   "execution_count": 20,
   "metadata": {},
   "outputs": [
    {
     "name": "stdout",
     "output_type": "stream",
     "text": [
      "ValueError: Indexes have overlapping values: Int64Index([0, 1], dtype='int64')\n"
     ]
    }
   ],
   "source": [
    "# 반복을 에러로 잡아낸다\n",
    "# 동일한 인덱스가 존재하기 때문에 verify_integrity=True일 경우 ValueError 발생\n",
    "\n",
    "try:\n",
    "    pd.concat([x, y], verify_integrity = True)\n",
    "except ValueError as e:\n",
    "    print(\"ValueError:\", e)"
   ]
  },
  {
   "cell_type": "code",
   "execution_count": 21,
   "metadata": {},
   "outputs": [
    {
     "name": "stdout",
     "output_type": "stream",
     "text": [
      "    A   B\n",
      "0  A0  B0\n",
      "1  A1  B1\n",
      "    A   B\n",
      "0  A2  B2\n",
      "1  A3  B3\n",
      "    A   B\n",
      "0  A0  B0\n",
      "1  A1  B1\n",
      "2  A2  B2\n",
      "3  A3  B3\n"
     ]
    }
   ],
   "source": [
    "# 인덱스를 무시한다\n",
    "\n",
    "print(x)  # DataFrame x 출력\n",
    "print(y)  # DataFrame y 출력\n",
    "\n",
    "# pd.concat()을 사용하여 x와 y를 연결할 때 기존 인덱스를 무시하고 새로운 인덱스를 부여\n",
    "# ignore_index=True를 설정하면 연결된 DataFrame의 인덱스가 0부터 시작하는 새로운 정수 인덱스로 재설정됨\n",
    "# 이렇게 하면 원래의 인덱스가 중복되거나 겹치는 문제를 방지할 수 있음\n",
    "print(pd.concat([x, y], ignore_index=True))\n",
    "# 결과:\n",
    "#    A   B\n",
    "# 0  A0  B0\n",
    "# 1  A1  B1\n",
    "# 2  A0  B0\n",
    "# 3  A1  B1"
   ]
  },
  {
   "cell_type": "code",
   "execution_count": 22,
   "metadata": {},
   "outputs": [
    {
     "name": "stdout",
     "output_type": "stream",
     "text": [
      "    A   B\n",
      "0  A0  B0\n",
      "1  A1  B1\n",
      "    A   B\n",
      "0  A2  B2\n",
      "1  A3  B3\n",
      "      A   B\n",
      "x 0  A0  B0\n",
      "  1  A1  B1\n",
      "y 0  A2  B2\n",
      "  1  A3  B3\n"
     ]
    }
   ],
   "source": [
    "# 다중 인덱스 키를 추가한다\n",
    "\n",
    "import pandas as pd  # pandas 라이브러리 불러오기\n",
    "\n",
    "def make_df(cols, ind):\n",
    "    \"\"\"빠르게 DataFrame 생성\"\"\"\n",
    "    # 각 열 이름(c)에 대해 인덱스(ind)를 문자열로 결합한 리스트 생성\n",
    "    data = {c: [str(c) + str(i) for i in ind] for c in cols}\n",
    "    # 생성된 딕셔너리를 사용해 DataFrame 생성, 인덱스는 ind로 설정\n",
    "    return pd.DataFrame(data, ind)\n",
    "\n",
    "# DataFrame x 생성: 열 'A', 'B'와 인덱스 0, 1\n",
    "x = make_df('AB', [0, 1])\n",
    "# DataFrame y 생성: 열 'A', 'B'와 인덱스 2, 3\n",
    "y = make_df('AB', [2, 3])\n",
    "\n",
    "# y의 인덱스를 x의 인덱스와 동일하게 설정 (0, 1으로 변경)\n",
    "y.index = x.index  # 인덱스가 0, 1로 변경됨\n",
    "\n",
    "# DataFrame x 출력\n",
    "print(\"DataFrame x:\")\n",
    "print(x)\n",
    "# 출력 예시:\n",
    "#     A   B\n",
    "# 0  A0  B0\n",
    "# 1  A1  B1\n",
    "\n",
    "# DataFrame y 출력\n",
    "print(\"\\nDataFrame y:\")\n",
    "print(y)\n",
    "# 출력 예시:\n",
    "#     A   B\n",
    "# 0  A0  B0\n",
    "# 1  A1  B1\n",
    "\n",
    "# pd.concat()을 사용하여 x와 y를 연결하면서 keys를 추가하여 다중 인덱스 생성\n",
    "# keys=['x', 'y']는 상위 인덱스로 사용되어 결과 DataFrame의 계층적 인덱스를 형성\n",
    "concatenated = pd.concat([x, y], keys=['x', 'y'])\n",
    "\n",
    "# 연결된 DataFrame 출력\n",
    "print(\"\\nConcatenated DataFrame with MultiIndex keys ['x', 'y']:\")\n",
    "print(concatenated)\n",
    "# 출력 예시:\n",
    "#       A   B\n",
    "# x 0  A0  B0\n",
    "#   1  A1  B1\n",
    "# y 0  A0  B0\n",
    "#   1  A1  B1\n",
    "\n",
    "# 결과 설명:\n",
    "# - 상위 레벨 인덱스가 'x'와 'y'로 설정되어, 원본 DataFrame x와 y를 구분 가능\n",
    "# - 하위 레벨 인덱스는 원래의 인덱스 (0, 1)가 유지됨\n",
    "# - MultiIndex가 적용되어 데이터의 출처를 명확히 구분할 수 있음"
   ]
  },
  {
   "cell_type": "code",
   "execution_count": 23,
   "metadata": {},
   "outputs": [
    {
     "name": "stdout",
     "output_type": "stream",
     "text": [
      "    A   B   C\n",
      "1  A1  B1  C1\n",
      "2  A2  B2  C2\n",
      "    B   C   D\n",
      "3  B3  C3  D3\n",
      "4  B4  C4  D4\n",
      "     A   B   C    D\n",
      "1   A1  B1  C1  NaN\n",
      "2   A2  B2  C2  NaN\n",
      "3  NaN  B3  C3   D3\n",
      "4  NaN  B4  C4   D4\n"
     ]
    }
   ],
   "source": [
    "import pandas as pd  # pandas 라이브러리 불러오기\n",
    "\n",
    "def make_df(cols, ind):\n",
    "    \"\"\"빠르게 DataFrame 생성\"\"\"\n",
    "    # 각 열 이름(c)에 대해 인덱스(ind)를 문자열로 결합한 리스트 생성\n",
    "    # 예: c='A', ind=[1,2] -> ['A1', 'A2']\n",
    "    data = {c: [str(c) + str(i) for i in ind] for c in cols}\n",
    "    # 생성된 딕셔너리를 사용해 DataFrame 생성, 인덱스는 ind로 설정\n",
    "    return pd.DataFrame(data, ind)\n",
    "\n",
    "# DataFrame df5 생성: 열 'A', 'B', 'C'와 인덱스 1, 2\n",
    "df5 = make_df('ABC', [1, 2])\n",
    "# DataFrame df6 생성: 열 'B', 'C', 'D'와 인덱스 3, 4\n",
    "df6 = make_df('BCD', [3, 4])\n",
    "\n",
    "# df5 출력\n",
    "print(\"DataFrame df5:\")\n",
    "print(df5)\n",
    "# 출력 예시:\n",
    "#     A   B   C\n",
    "# 1  A1  B1  C1\n",
    "# 2  A2  B2  C2\n",
    "\n",
    "# df6 출력\n",
    "print(\"\\nDataFrame df6:\")\n",
    "print(df6)\n",
    "# 출력 예시:\n",
    "#     B   C   D\n",
    "# 3  B3  C3  D3\n",
    "# 4  B4  C4  D4\n",
    "\n",
    "# pd.concat()을 사용하여 df5와 df6을 연결\n",
    "# 기본적으로 axis=0 (행 방향)으로 연결\n",
    "concatenated = pd.concat([df5, df6])\n",
    "\n",
    "# 연결된 DataFrame 출력\n",
    "print(\"\\nConcatenated DataFrame:\")\n",
    "print(concatenated)\n",
    "# 출력 예시:\n",
    "#      A    B    C    D\n",
    "# 1   A1   B1   C1  NaN\n",
    "# 2   A2   B2   C2  NaN\n",
    "# 3  NaN   B3   C3    D3\n",
    "# 4  NaN   B4   C4    D4"
   ]
  },
  {
   "cell_type": "code",
   "execution_count": 24,
   "metadata": {},
   "outputs": [
    {
     "name": "stdout",
     "output_type": "stream",
     "text": [
      "    A   B   C\n",
      "1  A1  B1  C1\n",
      "2  A2  B2  C2\n",
      "    B   C   D\n",
      "3  B3  C3  D3\n",
      "4  B4  C4  D4\n",
      "    B   C\n",
      "1  B1  C1\n",
      "2  B2  C2\n",
      "3  B3  C3\n",
      "4  B4  C4\n"
     ]
    }
   ],
   "source": [
    "print(df5)\n",
    "print(df6)\n",
    "print(pd.concat([df5, df6], join = 'inner'))"
   ]
  },
  {
   "cell_type": "code",
   "execution_count": 25,
   "metadata": {},
   "outputs": [
    {
     "name": "stdout",
     "output_type": "stream",
     "text": [
      "    A   B   C\n",
      "1  A1  B1  C1\n",
      "2  A2  B2  C2\n",
      "    B   C   D\n",
      "3  B3  C3  D3\n",
      "4  B4  C4  D4\n"
     ]
    },
    {
     "ename": "TypeError",
     "evalue": "concat() got an unexpected keyword argument 'join_axes'",
     "output_type": "error",
     "traceback": [
      "\u001b[0;31m---------------------------------------------------------------------------\u001b[0m",
      "\u001b[0;31mTypeError\u001b[0m                                 Traceback (most recent call last)",
      "Cell \u001b[0;32mIn[25], line 3\u001b[0m\n\u001b[1;32m      1\u001b[0m \u001b[38;5;28mprint\u001b[39m(df5)\n\u001b[1;32m      2\u001b[0m \u001b[38;5;28mprint\u001b[39m(df6)\n\u001b[0;32m----> 3\u001b[0m \u001b[38;5;28mprint\u001b[39m(\u001b[43mpd\u001b[49m\u001b[38;5;241;43m.\u001b[39;49m\u001b[43mconcat\u001b[49m\u001b[43m(\u001b[49m\u001b[43m[\u001b[49m\u001b[43mdf5\u001b[49m\u001b[43m,\u001b[49m\u001b[43m \u001b[49m\u001b[43mdf6\u001b[49m\u001b[43m]\u001b[49m\u001b[43m,\u001b[49m\u001b[43m \u001b[49m\u001b[43mjoin_axes\u001b[49m\u001b[43m \u001b[49m\u001b[38;5;241;43m=\u001b[39;49m\u001b[43m \u001b[49m\u001b[43m[\u001b[49m\u001b[43mdf5\u001b[49m\u001b[38;5;241;43m.\u001b[39;49m\u001b[43mcolumns\u001b[49m\u001b[43m]\u001b[49m\u001b[43m)\u001b[49m)\n",
      "File \u001b[0;32m/usr/local/Caskroom/miniconda/base/envs/yeardream/lib/python3.9/site-packages/pandas/util/_decorators.py:331\u001b[0m, in \u001b[0;36mdeprecate_nonkeyword_arguments.<locals>.decorate.<locals>.wrapper\u001b[0;34m(*args, **kwargs)\u001b[0m\n\u001b[1;32m    325\u001b[0m \u001b[38;5;28;01mif\u001b[39;00m \u001b[38;5;28mlen\u001b[39m(args) \u001b[38;5;241m>\u001b[39m num_allow_args:\n\u001b[1;32m    326\u001b[0m     warnings\u001b[38;5;241m.\u001b[39mwarn(\n\u001b[1;32m    327\u001b[0m         msg\u001b[38;5;241m.\u001b[39mformat(arguments\u001b[38;5;241m=\u001b[39m_format_argument_list(allow_args)),\n\u001b[1;32m    328\u001b[0m         \u001b[38;5;167;01mFutureWarning\u001b[39;00m,\n\u001b[1;32m    329\u001b[0m         stacklevel\u001b[38;5;241m=\u001b[39mfind_stack_level(),\n\u001b[1;32m    330\u001b[0m     )\n\u001b[0;32m--> 331\u001b[0m \u001b[38;5;28;01mreturn\u001b[39;00m \u001b[43mfunc\u001b[49m\u001b[43m(\u001b[49m\u001b[38;5;241;43m*\u001b[39;49m\u001b[43margs\u001b[49m\u001b[43m,\u001b[49m\u001b[43m \u001b[49m\u001b[38;5;241;43m*\u001b[39;49m\u001b[38;5;241;43m*\u001b[39;49m\u001b[43mkwargs\u001b[49m\u001b[43m)\u001b[49m\n",
      "\u001b[0;31mTypeError\u001b[0m: concat() got an unexpected keyword argument 'join_axes'"
     ]
    }
   ],
   "source": [
    "print(df5)\n",
    "print(df6)\n",
    "print(pd.concat([df5, df6], join_axes = [df5.columns])) # 최신 pandassms join_axes 지원 안된다."
   ]
  },
  {
   "cell_type": "code",
   "execution_count": 26,
   "metadata": {},
   "outputs": [
    {
     "name": "stdout",
     "output_type": "stream",
     "text": [
      "    A   B\n",
      "1  A1  B1\n",
      "2  A2  B2\n",
      "    A   B\n",
      "3  A3  B3\n",
      "4  A4  B4\n",
      "    A   B\n",
      "1  A1  B1\n",
      "2  A2  B2\n",
      "3  A3  B3\n",
      "4  A4  B4\n"
     ]
    },
    {
     "name": "stderr",
     "output_type": "stream",
     "text": [
      "/var/folders/s4/vwxst1r92574j_j67vlznjq80000gn/T/ipykernel_96473/2346179671.py:3: FutureWarning: The frame.append method is deprecated and will be removed from pandas in a future version. Use pandas.concat instead.\n",
      "  print(df1.append(df2))\n"
     ]
    }
   ],
   "source": [
    "# df1 DataFrame 출력\n",
    "print(df1)  # df1의 전체 내용을 콘솔에 출력\n",
    "\n",
    "# df2 DataFrame 출력\n",
    "print(df2)  # df2의 전체 내용을 콘솔에 출력\n",
    "\n",
    "# df1에 df2를 추가하여 새로운 DataFrame 생성 및 출력\n",
    "print(df1.append(df2))  # df1의 아래에 df2를 행 방향으로 추가하여 병합한 결과를 출력"
   ]
  }
 ],
 "metadata": {
  "kernelspec": {
   "display_name": "yeardream",
   "language": "python",
   "name": "python3"
  },
  "language_info": {
   "codemirror_mode": {
    "name": "ipython",
    "version": 3
   },
   "file_extension": ".py",
   "mimetype": "text/x-python",
   "name": "python",
   "nbconvert_exporter": "python",
   "pygments_lexer": "ipython3",
   "version": "3.9.19"
  }
 },
 "nbformat": 4,
 "nbformat_minor": 2
}
